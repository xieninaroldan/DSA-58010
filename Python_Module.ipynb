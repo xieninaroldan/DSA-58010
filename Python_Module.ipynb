{
  "nbformat": 4,
  "nbformat_minor": 0,
  "metadata": {
    "colab": {
      "provenance": [],
      "authorship_tag": "ABX9TyP1yNb2xWTXNuxnrJrvJqEo",
      "include_colab_link": true
    },
    "kernelspec": {
      "name": "python3",
      "display_name": "Python 3"
    },
    "language_info": {
      "name": "python"
    }
  },
  "cells": [
    {
      "cell_type": "markdown",
      "metadata": {
        "id": "view-in-github",
        "colab_type": "text"
      },
      "source": [
        "<a href=\"https://colab.research.google.com/github/xieninaroldan/DSA-58010/blob/main/Python_Module.ipynb\" target=\"_parent\"><img src=\"https://colab.research.google.com/assets/colab-badge.svg\" alt=\"Open In Colab\"/></a>"
      ]
    },
    {
      "cell_type": "markdown",
      "source": [
        "Example 1"
      ],
      "metadata": {
        "id": "LBsr2ZT09BRi"
      }
    },
    {
      "cell_type": "code",
      "execution_count": 1,
      "metadata": {
        "colab": {
          "base_uri": "https://localhost:8080/"
        },
        "id": "2-_ALq3S6MBp",
        "outputId": "1e464903-417d-4400-d24e-0e7fa4c5816b"
      },
      "outputs": [
        {
          "output_type": "stream",
          "name": "stdout",
          "text": [
            "i\n",
            "f\n"
          ]
        }
      ],
      "source": [
        "import array\n",
        "array.typecodes\n",
        "\n",
        "A = array.array('i', [1,2,3,4,5,6]) #initialize the elements of array A\n",
        "B = array.array('f', [1.5,2.5,3.5,4.5,5.5,6.5])\n",
        "\n",
        "print(A.typecode)\n",
        "print(B.typecode)"
      ]
    },
    {
      "cell_type": "markdown",
      "source": [
        "Example 2: Create/convert the elements of array A to float/decimal number"
      ],
      "metadata": {
        "id": "gUQjLbw79C6R"
      }
    },
    {
      "cell_type": "code",
      "source": [
        "A = array.array('f',[1,2,3,4,5,6,7,8,9,10]) #initializng elements of array A\n",
        "print(A)"
      ],
      "metadata": {
        "colab": {
          "base_uri": "https://localhost:8080/"
        },
        "id": "O_8DSmlY9AJa",
        "outputId": "87ace8ef-5c1b-4e7b-afcd-669c3c74fc91"
      },
      "execution_count": 2,
      "outputs": [
        {
          "output_type": "stream",
          "name": "stdout",
          "text": [
            "array('f', [1.0, 2.0, 3.0, 4.0, 5.0, 6.0, 7.0, 8.0, 9.0, 10.0])\n"
          ]
        }
      ]
    },
    {
      "cell_type": "markdown",
      "source": [
        "Example 3:"
      ],
      "metadata": {
        "id": "suJqh2Pd_0Gj"
      }
    },
    {
      "cell_type": "code",
      "source": [
        "import array #importing array from array module\n",
        "\n",
        "a = array.array('i',[4,5,6,7]) #initializing array a\n",
        "b = array.array('i',[1,2,3]) #initializing array b\n",
        "a.insert(1,2) #insert element: 2 to index 1\n",
        "print(a)\n",
        "a.insert(-1,0) #insert element: 0 to index -1\n",
        "print(a)\n",
        "a.insert(6,8) #insert element: 8 to index 6 which is out of range\n",
        "print(a) #append the last element of the array\n",
        "b[0] = 5\n",
        "print(b)\n",
        "b[-1] = 9\n",
        "print(b)"
      ],
      "metadata": {
        "colab": {
          "base_uri": "https://localhost:8080/"
        },
        "id": "1D7AeqFL_6Gx",
        "outputId": "b80a0ef7-2543-4163-a575-3694406366d4"
      },
      "execution_count": 8,
      "outputs": [
        {
          "output_type": "stream",
          "name": "stdout",
          "text": [
            "array('i', [4, 2, 5, 6, 7])\n",
            "array('i', [4, 2, 5, 6, 0, 7])\n",
            "array('i', [4, 2, 5, 6, 0, 7, 8])\n",
            "array('i', [5, 2, 3])\n",
            "array('i', [5, 2, 9])\n"
          ]
        }
      ]
    },
    {
      "cell_type": "markdown",
      "source": [
        "Linked List"
      ],
      "metadata": {
        "id": "LbOBYwEiFDWE"
      }
    },
    {
      "cell_type": "code",
      "source": [
        "#function that creates node object\n",
        "\n",
        "class Node:\n",
        "  def __init__(self,data):\n",
        "    self.data = data    # assign data\n",
        "    self.next = None    # initialize as null\n",
        "\n",
        "#function that creates Linked-list object\n",
        "\n",
        "class LinkedList:\n",
        "  def __init(self):\n",
        "    self.head = None   #initialize head as null\n",
        "\n",
        "  def printList(self):\n",
        "    temp = self.head\n",
        "    while(temp!=None):\n",
        "      print(temp.data)\n",
        "      temp = temp.next\n",
        "\n",
        "list = LinkedList()    #empty list\n",
        "list.head = Node(1)\n",
        "second = Node(2)\n",
        "third = Node(3)\n",
        "fourth = Node(4)\n",
        "\n",
        "list.head.next=second\n",
        "second.next = third\n",
        "third.next = fourth\n",
        "\n",
        "list.printList()\n"
      ],
      "metadata": {
        "colab": {
          "base_uri": "https://localhost:8080/"
        },
        "id": "FkiWYBEoOJBQ",
        "outputId": "1dbccd90-6e25-4419-a386-130ca504b780"
      },
      "execution_count": 21,
      "outputs": [
        {
          "output_type": "stream",
          "name": "stdout",
          "text": [
            "1\n",
            "2\n",
            "3\n",
            "4\n"
          ]
        }
      ]
    }
  ]
}