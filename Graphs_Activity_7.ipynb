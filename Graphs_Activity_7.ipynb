{
  "nbformat": 4,
  "nbformat_minor": 0,
  "metadata": {
    "colab": {
      "provenance": [],
      "collapsed_sections": [],
      "authorship_tag": "ABX9TyPw5dSS1iXE58y5NULbS1ek",
      "include_colab_link": true
    },
    "kernelspec": {
      "name": "python3",
      "display_name": "Python 3"
    },
    "language_info": {
      "name": "python"
    }
  },
  "cells": [
    {
      "cell_type": "markdown",
      "metadata": {
        "id": "view-in-github",
        "colab_type": "text"
      },
      "source": [
        "<a href=\"https://colab.research.google.com/github/xieninaroldan/DSA-58010/blob/main/Graphs_Activity_7.ipynb\" target=\"_parent\"><img src=\"https://colab.research.google.com/assets/colab-badge.svg\" alt=\"Open In Colab\"/></a>"
      ]
    },
    {
      "cell_type": "markdown",
      "source": [
        "Example:"
      ],
      "metadata": {
        "id": "XGe4YAj6fiDA"
      }
    },
    {
      "cell_type": "code",
      "execution_count": null,
      "metadata": {
        "colab": {
          "base_uri": "https://localhost:8080/"
        },
        "id": "jQTNQkmBjiTG",
        "outputId": "dab0059b-6d2c-45e9-e98e-2eb7907bd01c"
      },
      "outputs": [
        {
          "output_type": "stream",
          "name": "stdout",
          "text": [
            "{'a': ['c'], 'b': ['c', 'e'], 'c': ['a', 'b', 'd', 'e'], 'd': ['c'], 'e': ['c', 'b'], 'f': []}\n"
          ]
        }
      ],
      "source": [
        "graph = { 'a' : ['c'],\n",
        "          'b' : ['c', 'e'],\n",
        "          'c' : ['a', 'b', 'd', 'e'],\n",
        "          'd' : ['c'],\n",
        "          'e' : ['c', 'b'],\n",
        "          'f' : []\n",
        "        }\n",
        "print (graph)\n"
      ]
    },
    {
      "cell_type": "markdown",
      "source": [
        "Application: Activity 7"
      ],
      "metadata": {
        "id": "2wlcOeEufmMP"
      }
    },
    {
      "cell_type": "code",
      "source": [
        "G28 = {\n",
        "    'E': ['I', 'J', 'K', 'M'],\n",
        "    'F': ['I', 'J', 'K', 'P'],\n",
        "    'H': ['I', 'J', 'K'],\n",
        "    'I': ['E', 'F', 'H'],\n",
        "    'J': ['E', 'F', 'H'],\n",
        "    'K': ['E', 'F', 'H'],\n",
        "    'M': ['E'],\n",
        "    'P': ['F']\n",
        "    }\n",
        "\n",
        "print(G28)\n",
        "\n",
        "V = {'E','F','H','I','J','K','M','P'}\n",
        "E = {'E': ['I', 'J', 'K', 'M'], 'F': ['I', 'J', 'K', 'P'], 'H': ['I', 'J', 'K'], 'I': ['E', 'F', 'H'], 'J': ['E', 'F', 'H'], 'K': ['E', 'F', 'H'], 'M': ['E'], 'P': ['F']}"
      ],
      "metadata": {
        "colab": {
          "base_uri": "https://localhost:8080/"
        },
        "id": "5YQvRMHTdjOS",
        "outputId": "a2a34012-4590-4b6c-cf67-714a11e1a9ac"
      },
      "execution_count": 2,
      "outputs": [
        {
          "output_type": "stream",
          "name": "stdout",
          "text": [
            "{'E': ['I', 'J', 'K', 'M'], 'F': ['I', 'J', 'K', 'P'], 'H': ['I', 'J', 'K'], 'I': ['E', 'F', 'H'], 'J': ['E', 'F', 'H'], 'K': ['E', 'F', 'H'], 'M': ['E'], 'P': ['F']}\n"
          ]
        }
      ]
    },
    {
      "cell_type": "markdown",
      "source": [
        "With Weight"
      ],
      "metadata": {
        "id": "pKTXrUKkJb0_"
      }
    },
    {
      "cell_type": "code",
      "source": [
        "G28VE = {\n",
        "    'E': [['I',33],['J',58],['K',41],['M',69]],\n",
        "    'F': [['I',43],['J',32],['K',51],['P',70]],\n",
        "    'H': [['I',16],['J',22],['K',100]],\n",
        "    'I': [['E',33],['F',43],['H',16]],\n",
        "    'J': [['E',58],['F',32],['H',22]],\n",
        "    'K': [['E',41],['F',51],['H',100]],\n",
        "    'M': [['E',69]],\n",
        "    'P': [['F',70]]\n",
        "}\n",
        "\n",
        "print(G28VE)"
      ],
      "metadata": {
        "colab": {
          "base_uri": "https://localhost:8080/"
        },
        "id": "XL9rPIxHPtvD",
        "outputId": "f80d809e-3d34-4bd9-85a7-7995db1ebdc7"
      },
      "execution_count": 3,
      "outputs": [
        {
          "output_type": "stream",
          "name": "stdout",
          "text": [
            "{'E': [['I', 33], ['J', 58], ['K', 41], ['M', 69]], 'F': [['I', 43], ['J', 32], ['K', 51], ['P', 70]], 'H': [['I', 16], ['J', 22], ['K', 100]], 'I': [['E', 33], ['F', 43], ['H', 16]], 'J': [['E', 58], ['F', 32], ['H', 22]], 'K': [['E', 41], ['F', 51], ['H', 100]], 'M': [['E', 69]], 'P': [['F', 70]]}\n"
          ]
        }
      ]
    }
  ]
}