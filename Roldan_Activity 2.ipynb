{
  "nbformat": 4,
  "nbformat_minor": 0,
  "metadata": {
    "colab": {
      "provenance": [],
      "authorship_tag": "ABX9TyPDOC2GvrPS2juV8dLpCw7v",
      "include_colab_link": true
    },
    "kernelspec": {
      "name": "python3",
      "display_name": "Python 3"
    },
    "language_info": {
      "name": "python"
    }
  },
  "cells": [
    {
      "cell_type": "markdown",
      "metadata": {
        "id": "view-in-github",
        "colab_type": "text"
      },
      "source": [
        "<a href=\"https://colab.research.google.com/github/xieninaroldan/DSA-58010/blob/main/Roldan_Activity%202.ipynb\" target=\"_parent\"><img src=\"https://colab.research.google.com/assets/colab-badge.svg\" alt=\"Open In Colab\"/></a>"
      ]
    },
    {
      "cell_type": "markdown",
      "source": [
        "1.Write a Python program to create an array of 10 integers and display the array items. Access individual elements through indexes and compute for the sum."
      ],
      "metadata": {
        "id": "mkpvv5a5OSG_"
      }
    },
    {
      "cell_type": "code",
      "execution_count": 14,
      "metadata": {
        "colab": {
          "base_uri": "https://localhost:8080/"
        },
        "id": "17aDZBVtODnh",
        "outputId": "a63b6afb-f825-4e25-bec3-777e61616815"
      },
      "outputs": [
        {
          "output_type": "stream",
          "name": "stdout",
          "text": [
            "[2, 4, 6, 8, 10, 12, 14, 16, 18, 20]\n",
            "1st element: [2]\n",
            "2nd element: [4]\n",
            "3rd element: [6]\n",
            "4th element: [8]\n",
            "5th element: [10]\n",
            "6th element: [12]\n",
            "7th element: [14]\n",
            "8th element: [16]\n",
            "9th element: [18]\n",
            "10th element: [20]\n",
            "The sum of the numbers are: 110\n"
          ]
        }
      ],
      "source": [
        "numbers = [2,4,6,8,10,12,14,16,18,20] \n",
        "sum = 0\n",
        "for x in numbers:\n",
        "  sum += x \n",
        "\n",
        "print(numbers)\n",
        "print(\"1st element: [2]\")\n",
        "print(\"2nd element: [4]\")\n",
        "print(\"3rd element: [6]\")\n",
        "print(\"4th element: [8]\")\n",
        "print(\"5th element: [10]\")\n",
        "print(\"6th element: [12]\")\n",
        "print(\"7th element: [14]\")\n",
        "print(\"8th element: [16]\")\n",
        "print(\"9th element: [18]\")\n",
        "print(\"10th element: [20]\")\n",
        "print(\"The sum of the numbers are:\" , sum)"
      ]
    },
    {
      "cell_type": "markdown",
      "source": [
        "2.Write a Python program to append a new item to the end of the array. Original array: numbers = [1, 2, 3, 4, 5, 6, 7, 8, 9, 10]"
      ],
      "metadata": {
        "id": "dNf3EdX-SOrF"
      }
    },
    {
      "cell_type": "code",
      "source": [
        "numbers = [1, 2, 3, 4, 5, 6, 7, 8, 9, 10]\n",
        "numbers.append(39)\n",
        "print(\"Number appended to the end of the array: 39\")\n",
        "print(numbers)"
      ],
      "metadata": {
        "colab": {
          "base_uri": "https://localhost:8080/"
        },
        "id": "TomNx1pSSSYc",
        "outputId": "2b36ecaa-4165-4163-bdf6-da5d683348d2"
      },
      "execution_count": 23,
      "outputs": [
        {
          "output_type": "stream",
          "name": "stdout",
          "text": [
            "Number appended to the end of the array: 39\n",
            "[1, 2, 3, 4, 5, 6, 7, 8, 9, 10, 39]\n"
          ]
        }
      ]
    },
    {
      "cell_type": "markdown",
      "source": [
        "3.Write a Python program to insert a new item before the second element in an existing array. Original array: numbers = [1, 2, 3, 4, 5, 6, 7, 8, 9, 10]"
      ],
      "metadata": {
        "id": "WKAlbx-HUkhU"
      }
    },
    {
      "cell_type": "code",
      "source": [
        "numbers = [1, 2, 3, 4, 5, 6, 7, 8, 9, 10]\n",
        "numbers.insert(1,39)\n",
        "print(\"Number inserted before the 2nd element of the array: 39\")\n",
        "print(numbers)"
      ],
      "metadata": {
        "colab": {
          "base_uri": "https://localhost:8080/"
        },
        "id": "P9B7iVvmUsq6",
        "outputId": "1023f743-cd7f-442e-aace-e521fffd6338"
      },
      "execution_count": 21,
      "outputs": [
        {
          "output_type": "stream",
          "name": "stdout",
          "text": [
            "Number inserted before the 2nd element of the array: 39\n",
            "[1, 39, 2, 3, 4, 5, 6, 7, 8, 9, 10]\n"
          ]
        }
      ]
    },
    {
      "cell_type": "markdown",
      "source": [
        "4.Write a Python program to reverse the order of the items in the array. Original array: numbers = [5, 4, 3, 2, 1]"
      ],
      "metadata": {
        "id": "TehMHPsZVGSZ"
      }
    },
    {
      "cell_type": "code",
      "source": [
        "numbers = [5, 4, 3, 2, 1]\n",
        "numbers.reverse()\n",
        "print(\"Reversed array: \", numbers)"
      ],
      "metadata": {
        "colab": {
          "base_uri": "https://localhost:8080/"
        },
        "id": "gB4M-AvgVJnS",
        "outputId": "0c05f7dd-0834-4ae9-e9e6-5838e84a8f36"
      },
      "execution_count": 17,
      "outputs": [
        {
          "output_type": "stream",
          "name": "stdout",
          "text": [
            "Reversed array:  [1, 2, 3, 4, 5]\n"
          ]
        }
      ]
    },
    {
      "cell_type": "markdown",
      "source": [
        "5.Write a Python program to get the length of the array. Original array: numbers = [5, 4, 3, 2, 1]"
      ],
      "metadata": {
        "id": "1aZJvLWqVV_j"
      }
    },
    {
      "cell_type": "code",
      "source": [
        "numbers = [5, 4, 3, 2, 1]\n",
        "x=len(numbers)\n",
        "print(\"The length of the array: \", x)"
      ],
      "metadata": {
        "colab": {
          "base_uri": "https://localhost:8080/"
        },
        "id": "0frBdsraVZHK",
        "outputId": "87149395-72b9-44d5-a14d-ae3a6961d9b8"
      },
      "execution_count": 16,
      "outputs": [
        {
          "output_type": "stream",
          "name": "stdout",
          "text": [
            "The length of the array:  5\n"
          ]
        }
      ]
    }
  ]
}