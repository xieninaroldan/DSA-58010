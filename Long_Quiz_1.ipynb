{
  "nbformat": 4,
  "nbformat_minor": 0,
  "metadata": {
    "colab": {
      "provenance": [],
      "authorship_tag": "ABX9TyOd+wDyDq8tKBJBOvJzvhAh",
      "include_colab_link": true
    },
    "kernelspec": {
      "name": "python3",
      "display_name": "Python 3"
    },
    "language_info": {
      "name": "python"
    }
  },
  "cells": [
    {
      "cell_type": "markdown",
      "metadata": {
        "id": "view-in-github",
        "colab_type": "text"
      },
      "source": [
        "<a href=\"https://colab.research.google.com/github/xieninaroldan/DSA-58010/blob/main/Long_Quiz_1.ipynb\" target=\"_parent\"><img src=\"https://colab.research.google.com/assets/colab-badge.svg\" alt=\"Open In Colab\"/></a>"
      ]
    },
    {
      "cell_type": "code",
      "source": [
        "#array\n",
        "\n",
        "name = [\"Xienina\", \"Ferrer\", \"Roldan\"]\n",
        "x = name[0]\n",
        "y = name[1]\n",
        "z = name[2]\n",
        "\n",
        "print(\"My full name is\",x,y,z)\n",
        "\n",
        "revname1 = z\n",
        "revname2 = y\n",
        "revname3 = x\n",
        "\n",
        "print(\"My name in reverse order is\", revname1,revname2,revname3)"
      ],
      "metadata": {
        "colab": {
          "base_uri": "https://localhost:8080/"
        },
        "id": "J6sBwWEhgZ-1",
        "outputId": "0205ea00-442c-4da9-ca3e-edd7c1757569"
      },
      "execution_count": 3,
      "outputs": [
        {
          "output_type": "stream",
          "name": "stdout",
          "text": [
            "My full name is Xienina Ferrer Roldan\n",
            "My name in reverse order is Roldan Ferrer Xienina\n"
          ]
        }
      ]
    }
  ]
}